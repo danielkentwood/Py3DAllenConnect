{
 "cells": [
  {
   "cell_type": "code",
   "execution_count": 1,
   "metadata": {
    "collapsed": true
   },
   "outputs": [],
   "source": [
    "import urllib\n",
    "import json\n",
    "import vis3DConnect as vc"
   ]
  },
  {
   "cell_type": "markdown",
   "metadata": {},
   "source": [
    "# NOTE\n",
    "These are in single micron. So you need to divide by 25 if you are trying to fit it into 25 micron voxel space. \n"
   ]
  },
  {
   "cell_type": "code",
   "execution_count": 2,
   "metadata": {
    "collapsed": true
   },
   "outputs": [],
   "source": [
    "#http://connectivity.brain-map.org/?searchMode=spatial&sourceDomain=8,304325711&primaryStructureOnly=true&isi=false&targetCoordinates=9400,1250,6200&initImage=TWO_PHOTON&experimentCoordinates=9400,1250,6200&experiment=309113907\n",
    "\n",
    "target_voxel = [9400,1250,6200]\n",
    "experiment_id = 309113907"
   ]
  },
  {
   "cell_type": "code",
   "execution_count": 3,
   "metadata": {
    "collapsed": false
   },
   "outputs": [],
   "source": [
    "\n",
    "def get_path( target_voxel, experiment_id ) :\n",
    "    \n",
    "    url = \"http://api.brain-map.org/api/v2/data/query.json?criteria=service::mouse_connectivity_target_spatial\"\n",
    "    url = url + \"[seed_point$eq%s]\" % ','.join([str(s) for s in target_voxel])\n",
    "    url = url + \"[section_data_set$eq%d]\" % experiment_id\n",
    "    \n",
    "    response = urllib.urlopen(url)\n",
    "    data = json.loads(response.read())\n",
    "    data = [s['coord'] for s in data['msg'][0]['path']]\n",
    "    return data\n",
    "    "
   ]
  },
  {
   "cell_type": "code",
   "execution_count": 4,
   "metadata": {
    "collapsed": false
   },
   "outputs": [],
   "source": [
    "target_voxel = [9400,1250,6200]\n",
    "experiment_id = 309113907\n",
    "data = get_path( target_voxel, experiment_id )\n",
    "\n",
    "# target voxel is starting point ending at the injection site"
   ]
  },
  {
   "cell_type": "code",
   "execution_count": 29,
   "metadata": {
    "collapsed": false,
    "scrolled": true
   },
   "outputs": [],
   "source": [
    "# unpack it for plotting\n",
    "x, y, z = zip(*data)\n"
   ]
  },
  {
   "cell_type": "code",
   "execution_count": 30,
   "metadata": {
    "collapsed": false
   },
   "outputs": [],
   "source": [
    "# unpack it for plotting\n",
    "x, y, z = zip(*data)\n",
    "\n",
    "import numpy as np\n",
    "# divide by 25 \n",
    "nx = np.array(x).astype(float)/25\n",
    "ny = np.array(y).astype(float)/25\n",
    "nz = np.array(z).astype(float)/25\n",
    "\n"
   ]
  },
  {
   "cell_type": "code",
   "execution_count": 48,
   "metadata": {
    "collapsed": false
   },
   "outputs": [
    {
     "name": "stdout",
     "output_type": "stream",
     "text": [
      "[[ 376.     52.    248.  ]\n",
      " [ 375.52   55.52  248.  ]\n",
      " [ 374.2    58.64  248.  ]\n",
      " [ 371.52   60.88  248.44]\n",
      " [ 368.     62.64  249.32]\n",
      " [ 364.     63.52  250.64]\n",
      " [ 360.44   64.    252.  ]\n",
      " [ 357.32   64.    253.76]\n",
      " [ 354.64   64.44  256.  ]\n",
      " [ 352.     65.76  258.2 ]\n",
      " [ 349.32   68.44  260.  ]\n",
      " [ 347.08   71.52  261.32]\n",
      " [ 344.88   74.64  262.64]\n",
      " [ 342.64   77.32  263.52]\n",
      " [ 340.     80.44  264.  ]\n",
      " [ 337.76   83.52  264.  ]\n",
      " [ 336.     86.64  264.44]\n",
      " [ 334.64   89.32  265.32]\n",
      " [ 332.88   92.44  266.64]\n",
      " [ 331.08   96.    267.52]\n",
      " [ 328.88   99.52  268.  ]\n",
      " [ 326.64  102.64  268.44]\n",
      " [ 324.    104.88  269.76]\n",
      " [ 321.76  107.08  272.44]\n",
      " [ 320.    108.88  275.52]\n",
      " [ 318.2   110.64  278.64]\n",
      " [ 316.    111.52  280.88]\n",
      " [ 313.32  112.44  283.08]\n",
      " [ 311.08  113.76  284.88]\n",
      " [ 309.32  116.    287.08]\n",
      " [ 308.    118.2   289.32]\n",
      " [ 306.64  119.52  292.44]\n",
      " [ 305.32  120.44  296.  ]\n",
      " [ 304.    121.76  299.52]\n",
      " [ 302.64  124.    302.64]\n",
      " [ 300.88  126.2   305.32]\n",
      " [ 298.64  127.52  308.  ]\n",
      " [ 296.    128.44  310.2 ]\n",
      " [ 293.32  129.76  311.52]\n",
      " [ 290.64  132.    312.44]\n",
      " [ 288.    134.2   313.76]\n",
      " [ 285.32  135.52  316.  ]\n",
      " [ 283.08  136.44  318.2 ]\n",
      " [ 281.32  137.76  320.  ]\n",
      " [ 280.44  140.44  321.32]\n",
      " [ 280.    143.52  323.08]\n",
      " [ 280.    146.2   325.32]\n",
      " [ 280.    147.52  328.44]\n",
      " [ 280.    148.    332.  ]\n",
      " [ 280.    147.52  336.  ]\n",
      " [ 280.    146.2   340.  ]\n",
      " [ 280.    144.    343.52]\n",
      " [ 280.44  141.32  346.2 ]\n",
      " [ 281.32  138.64  348.  ]\n",
      " [ 282.64  135.52  349.76]\n",
      " [ 283.52  132.44  352.  ]\n",
      " [ 284.    129.32  354.2 ]\n",
      " [ 284.44  126.64  355.52]\n",
      " [ 285.32  123.52  356.  ]\n",
      " [ 286.64  120.    356.  ]\n",
      " [ 287.52  116.    356.  ]\n",
      " [ 288.44  112.44  356.  ]\n",
      " [ 289.76  109.32  356.  ]\n",
      " [ 292.    106.64  356.  ]\n",
      " [ 294.2   103.52  356.  ]\n",
      " [ 296.    100.44  356.  ]\n",
      " [ 297.32   97.32  356.  ]\n",
      " [ 299.08   94.64  356.  ]\n",
      " [ 300.88   91.52  356.  ]\n",
      " [ 303.08   88.44  356.  ]\n",
      " [ 304.88   85.32  356.  ]\n",
      " [ 307.08   83.08  356.  ]\n",
      " [ 308.88   81.32  356.  ]\n",
      " [ 311.08   80.44  356.  ]\n",
      " [ 313.32   79.52  356.  ]\n",
      " [ 316.44   78.2   356.  ]\n",
      " [ 319.52   75.52  355.52]\n",
      " [ 322.64   72.44  354.64]\n",
      " [ 324.88   69.32  352.88]\n",
      " [ 327.08   66.64  351.08]\n",
      " [ 330.64   63.52  348.  ]\n",
      " [ 336.     60.    344.  ]\n",
      " [ 347.6    51.6   311.2 ]]\n",
      "83\n",
      "break\n",
      "[[ 376.     52.    248.  ]\n",
      " [ 360.44   64.    252.  ]\n",
      " [ 344.88   74.64  262.64]\n",
      " [ 332.88   92.44  266.64]\n",
      " [ 320.    108.88  275.52]\n",
      " [ 308.    118.2   289.32]\n",
      " [ 298.64  127.52  308.  ]\n",
      " [ 283.08  136.44  318.2 ]\n",
      " [ 280.    148.    332.  ]\n",
      " [ 282.64  135.52  349.76]\n",
      " [ 287.52  116.    356.  ]\n",
      " [ 297.32   97.32  356.  ]\n",
      " [ 308.88   81.32  356.  ]\n",
      " [ 324.88   69.32  352.88]]\n",
      "break\n",
      "[[ 376.     52.    248.  ]\n",
      " [ 360.44   64.    252.  ]\n",
      " [ 344.88   74.64  262.64]\n",
      " [ 332.88   92.44  266.64]\n",
      " [ 320.    108.88  275.52]\n",
      " [ 308.    118.2   289.32]\n",
      " [ 298.64  127.52  308.  ]\n",
      " [ 283.08  136.44  318.2 ]\n",
      " [ 280.    148.    332.  ]\n",
      " [ 282.64  135.52  349.76]\n",
      " [ 287.52  116.    356.  ]\n",
      " [ 297.32   97.32  356.  ]\n",
      " [ 308.88   81.32  356.  ]\n",
      " [ 324.88   69.32  352.88]]\n"
     ]
    }
   ],
   "source": [
    "tst = np.vstack([nx,ny,nz]).transpose()\n",
    "print tst\n",
    "print len(tst)\n",
    "print 'break'\n",
    "print tst[0:len(tst):6,:]\n",
    "print 'break'\n",
    "print tst[::6]"
   ]
  },
  {
   "cell_type": "code",
   "execution_count": 31,
   "metadata": {
    "collapsed": false
   },
   "outputs": [
    {
     "data": {
      "image/png": "[encoded data removed]",
      "text/plain": [
       "<matplotlib.figure.Figure at 0x10dcf7890>"
      ]
     },
     "metadata": {},
     "output_type": "display_data"
    }
   ],
   "source": [
    "%matplotlib inline\n",
    "\n",
    "import matplotlib.pyplot as plt\n",
    "from mpl_toolkits.mplot3d import Axes3D\n",
    "\n",
    "fig = plt.figure()\n",
    "ax = fig.gca(projection='3d')\n",
    "ax.plot(nx, ny, nz, label='path')\n",
    "ax.legend()\n",
    "plt.show()\n",
    "\n",
    "    "
   ]
  },
  {
   "cell_type": "code",
   "execution_count": null,
   "metadata": {
    "collapsed": true
   },
   "outputs": [],
   "source": []
  }
 ],
 "metadata": {
  "anaconda-cloud": {},
  "kernelspec": {
   "display_name": "Python [Root]",
   "language": "python",
   "name": "Python [Root]"
  },
  "language_info": {
   "codemirror_mode": {
    "name": "ipython",
    "version": 2
   },
   "file_extension": ".py",
   "mimetype": "text/x-python",
   "name": "python",
   "nbconvert_exporter": "python",
   "pygments_lexer": "ipython2",
   "version": "2.7.12"
  }
 },
 "nbformat": 4,
 "nbformat_minor": 0
}
