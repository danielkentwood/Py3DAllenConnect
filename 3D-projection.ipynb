{
 "cells": [
  {
   "cell_type": "code",
   "execution_count": 1,
   "metadata": {
    "collapsed": false
   },
   "outputs": [
    {
     "data": {
      "text/plain": [
       "<PyQt4.QtGui.QApplication at 0x1162493e0>"
      ]
     },
     "execution_count": 1,
     "metadata": {},
     "output_type": "execute_result"
    }
   ],
   "source": [
    "drive_path = '/Volumes/Brain2016 1'\n",
    "\n",
    "%gui qt\n",
    "\n",
    "import os\n",
    "from allensdk.core.mouse_connectivity_cache import MouseConnectivityCache\n",
    "import pandas as pd\n",
    "import scipy.ndimage as ndi\n",
    "import numpy as np\n",
    "import time\n",
    "import get_connectivity as gc\n",
    "import vis3DConnect as vc\n",
    "\n",
    "import pyqtgraph as pg\n",
    "import pyqtgraph.metaarray as metaarray\n",
    "from pyqtgraph.Qt import QtGui, QtCore\n",
    "import pyqtgraph.opengl as pgl\n",
    "pg.mkQApp()\n"
   ]
  },
  {
   "cell_type": "code",
   "execution_count": 2,
   "metadata": {
    "collapsed": false
   },
   "outputs": [],
   "source": [
    "# When downloading 3D connectivity data volumes, what resolution do you want (in microns)?  \n",
    "# Options are: 10, 25, 50, 100\n",
    "resolution_um=25\n",
    "\n",
    "# The manifest file is a simple JSON file that keeps track of all of\n",
    "# the data that has already been downloaded onto the hard drives.\n",
    "# If you supply a relative path, it is assumed to be relative to your\n",
    "# current working directory.\n",
    "manifest_file = os.path.join(drive_path, \"MouseConnectivity\",\"manifest.json\")\n",
    "\n",
    "mcc = MouseConnectivityCache(manifest_file=manifest_file, resolution=resolution_um)\n",
    "\n",
    "template, template_info = mcc.get_template_volume()\n",
    "\n",
    "ontology = mcc.get_ontology()"
   ]
  },
  {
   "cell_type": "code",
   "execution_count": null,
   "metadata": {
    "collapsed": true
   },
   "outputs": [],
   "source": []
  },
  {
   "cell_type": "markdown",
   "metadata": {},
   "source": [
    "# Set up your variables for the density plots"
   ]
  },
  {
   "cell_type": "code",
   "execution_count": 7,
   "metadata": {
    "collapsed": true
   },
   "outputs": [],
   "source": [
    "# FIND CONNECTIONS\n",
    "fid_PRNc_III, fpd_PRNc_III=gc.get_connectivity('PRNc','III',ontology,mcc)\n",
    "piIDs = list(fpd_PRNc_III.experiment_id)"
   ]
  },
  {
   "cell_type": "code",
   "execution_count": 8,
   "metadata": {
    "collapsed": false
   },
   "outputs": [],
   "source": [
    "# FIND CONNECTIONS\n",
    "fid_SCm_PRNc, fpd_SCm_PRNc=gc.get_connectivity('SCm','PRNc',ontology,mcc)\n",
    "spIDs = list(fpd_SCm_PRNc.experiment_id)"
   ]
  },
  {
   "cell_type": "code",
   "execution_count": 9,
   "metadata": {
    "collapsed": false
   },
   "outputs": [],
   "source": [
    "# GET PROJECTION DENSITIES\n",
    "pdens1,_ = mcc.get_projection_density(158838128)\n",
    "pdens2,_= mcc.get_projection_density(175158132)"
   ]
  },
  {
   "cell_type": "code",
   "execution_count": 10,
   "metadata": {
    "collapsed": false
   },
   "outputs": [],
   "source": [
    "# GET MASK DATA\n",
    "PRNc_id = ontology.df[ontology.df.acronym=='PRNc'].id.values[0]\n",
    "PRNc_mask, _ = mcc.get_structure_mask(PRNc_id)\n",
    "\n",
    "SCm_id = ontology.df[ontology.df.acronym=='SCm'].id.values[0]\n",
    "SCm_mask, _ = mcc.get_structure_mask(SCm_id)"
   ]
  },
  {
   "cell_type": "code",
   "execution_count": 11,
   "metadata": {
    "collapsed": true
   },
   "outputs": [],
   "source": [
    "# DEFINE THE INJECTION INPUT(S)\n",
    "lt = [([255,15,0],pdens1),([0,15,255],pdens2)]\n",
    "# lt = [([0,15,240],pdens2)]\n",
    "\n",
    "# Note that the dominant RGB color should be 255, and the added color you want at the peak intensity\n",
    "# (i.e., where the injection occurred) should be set to about 10 or 15."
   ]
  },
  {
   "cell_type": "markdown",
   "metadata": {
    "collapsed": true
   },
   "source": [
    "# RUNNING THE VISUALIZATION"
   ]
  },
  {
   "cell_type": "code",
   "execution_count": 12,
   "metadata": {
    "collapsed": false
   },
   "outputs": [
    {
     "name": "stderr",
     "output_type": "stream",
     "text": [
      "pyqtgraph/functions.py:2067: VisibleDeprecationWarning: converting an array with ndim > 0 to an index will result in an error in the future\n",
      "  faceTableI[faceTableInds[:,0]] = np.array([triTable[j] for j in faceTableInds])\n"
     ]
    },
    {
     "name": "stdout",
     "output_type": "stream",
     "text": [
      "build brain isosurface 1.91\n",
      "build injection volume 27.29\n",
      "rendering 0.00\n",
      "total run time: 29.19\n"
     ]
    }
   ],
   "source": [
    "# RUN THE ENTIRE VISUALIZATION\n",
    "view = vc.vis3D(template,lt)"
   ]
  },
  {
   "cell_type": "code",
   "execution_count": null,
   "metadata": {
    "collapsed": true
   },
   "outputs": [],
   "source": [
    "# ROTATE AROUND THE IMAGE \n",
    "for i in range(360): # determine the number of steps\n",
    "    view.orbit(-2,0)  # determine the step size in horizontal and vertical dimensions\n",
    "    time.sleep(0.1) # determine the time between steps\n",
    "    pg.QtGui.QApplication.processEvents()"
   ]
  },
  {
   "cell_type": "code",
   "execution_count": 18,
   "metadata": {
    "collapsed": false
   },
   "outputs": [],
   "source": [
    "# JUST PLOT THE GLASS BRAIN\n",
    "view = vc.vis3D_glassBrain(template,pad=30,ds_factor=6)"
   ]
  },
  {
   "cell_type": "code",
   "execution_count": 11,
   "metadata": {
    "collapsed": false
   },
   "outputs": [],
   "source": [
    "# PLOT SOME PROJECTIONS (ASSUMING AN EXISTING GLASS BRAIN)\n",
    "view = vc.vis3D_projections(view,lt,ds_factor=6)"
   ]
  },
  {
   "cell_type": "code",
   "execution_count": 16,
   "metadata": {
    "collapsed": false
   },
   "outputs": [],
   "source": [
    "# PLOT A STRUCTURE MASK\n",
    "view = vc.vis3D_structureMask(view,PRNc_mask,maskCol=[0.5,1,0.5],ds_factor=1)\n",
    "view = vc.vis3D_structureMask(view,SCm_mask,maskCol=[1,0.5,1],ds_factor=1)"
   ]
  },
  {
   "cell_type": "code",
   "execution_count": null,
   "metadata": {
    "collapsed": true
   },
   "outputs": [],
   "source": []
  },
  {
   "cell_type": "code",
   "execution_count": null,
   "metadata": {
    "collapsed": true
   },
   "outputs": [],
   "source": []
  },
  {
   "cell_type": "code",
   "execution_count": null,
   "metadata": {
    "collapsed": true
   },
   "outputs": [],
   "source": []
  },
  {
   "cell_type": "code",
   "execution_count": null,
   "metadata": {
    "collapsed": true
   },
   "outputs": [],
   "source": []
  },
  {
   "cell_type": "code",
   "execution_count": null,
   "metadata": {
    "collapsed": true
   },
   "outputs": [],
   "source": []
  },
  {
   "cell_type": "markdown",
   "metadata": {},
   "source": [
    "# MODIFYING THE VISUALIZATION"
   ]
  },
  {
   "cell_type": "code",
   "execution_count": 87,
   "metadata": {
    "collapsed": false
   },
   "outputs": [],
   "source": [
    "# REMOVE ALL ITEMS FROM VIEW\n",
    "for i in range(len(view.items)):\n",
    "    view.removeItem(view.items[0])  \n",
    "# view.items"
   ]
  },
  {
   "cell_type": "code",
   "execution_count": 103,
   "metadata": {
    "collapsed": false
   },
   "outputs": [],
   "source": [
    "# REMOVE NON-GLASS-BRAIN ITEMS FROM VIEW\n",
    "for i in range(len(view.items)-1):\n",
    "    view.removeItem(view.items[1])  "
   ]
  },
  {
   "cell_type": "code",
   "execution_count": null,
   "metadata": {
    "collapsed": false
   },
   "outputs": [],
   "source": []
  },
  {
   "cell_type": "code",
   "execution_count": null,
   "metadata": {
    "collapsed": false
   },
   "outputs": [],
   "source": []
  },
  {
   "cell_type": "code",
   "execution_count": null,
   "metadata": {
    "collapsed": false
   },
   "outputs": [],
   "source": []
  },
  {
   "cell_type": "code",
   "execution_count": null,
   "metadata": {
    "collapsed": false
   },
   "outputs": [],
   "source": []
  },
  {
   "cell_type": "markdown",
   "metadata": {
    "collapsed": false
   },
   "source": [
    "# Plotting pathways"
   ]
  },
  {
   "cell_type": "code",
   "execution_count": 19,
   "metadata": {
    "collapsed": true
   },
   "outputs": [],
   "source": [
    "import urllib\n",
    "import json"
   ]
  },
  {
   "cell_type": "code",
   "execution_count": 99,
   "metadata": {
    "collapsed": true
   },
   "outputs": [],
   "source": [
    "def get_path( target_voxel, experiment_id ) :\n",
    "    url = \"http://api.brain-map.org/api/v2/data/query.json?criteria=service::mouse_connectivity_target_spatial\"\n",
    "    url = url + \"[seed_point$eq%s]\" % ','.join([str(s) for s in target_voxel])\n",
    "    url = url + \"[section_data_set$eq%d]\" % experiment_id\n",
    "    \n",
    "    response = urllib.urlopen(url)\n",
    "    data = json.loads(response.read())\n",
    "    data = [s['coord'] for s in data['msg'][0]['path']]\n",
    "    return data\n",
    "\n",
    "def vis3D_showPaths(view,paths,ds_factor=2):\n",
    "    pts = paths[::ds_factor]\n",
    "    plt = pgl.GLLinePlotItem(pos=pts, color=pg.glColor([255,0,0,255]), width=2, antialias=True)\n",
    "    plt.translate(-528./2,-320./2,-456./2)\n",
    "    plt.rotate(-90, 1, 0, 0)\n",
    "    view.addItem(plt)\n",
    "    \n",
    "    pos = np.empty((2, 3))\n",
    "    color = np.empty((2, 4))\n",
    "    size = np.empty((2))\n",
    "    \n",
    "    pos[0]=paths[0,::]\n",
    "    pos[1]=paths[len(paths)-1::]\n",
    "    color[0]=[255,0,0,255]\n",
    "    color[1]=[255,0,0,255]\n",
    "    size[0]=10\n",
    "    size[1]=10\n",
    "    sp1 = pgl.GLScatterPlotItem(pos=pos, size=size, color=color, pxMode=True)\n",
    "    sp1.translate(-528./2,-320./2,-456./2)\n",
    "    sp1.rotate(-90, 1, 0, 0)\n",
    "    view.addItem(sp1)\n",
    "    \n",
    "    view.show()\n",
    "\n",
    "    return view"
   ]
  },
  {
   "cell_type": "code",
   "execution_count": 81,
   "metadata": {
    "collapsed": true
   },
   "outputs": [],
   "source": [
    "target_voxel = [9400,1250,6200]\n",
    "experiment_id = 309113907\n",
    "data = get_path( target_voxel, experiment_id )"
   ]
  },
  {
   "cell_type": "code",
   "execution_count": 82,
   "metadata": {
    "collapsed": true
   },
   "outputs": [],
   "source": [
    "# unpack it for plotting\n",
    "x, y, z = zip(*data)\n",
    "\n",
    "# divide by 25 \n",
    "nx = np.array(x).astype(float)/25\n",
    "ny = np.array(y).astype(float)/25\n",
    "nz = np.array(z).astype(float)/25\n",
    "\n",
    "xyz = np.vstack([nx,ny,nz]).transpose()"
   ]
  },
  {
   "cell_type": "code",
   "execution_count": null,
   "metadata": {
    "collapsed": true
   },
   "outputs": [],
   "source": []
  },
  {
   "cell_type": "code",
   "execution_count": 89,
   "metadata": {
    "collapsed": true
   },
   "outputs": [],
   "source": [
    "# JUST PLOT THE GLASS BRAIN\n",
    "view = vc.vis3D_glassBrain(template,pad=30,ds_factor=6)"
   ]
  },
  {
   "cell_type": "code",
   "execution_count": 104,
   "metadata": {
    "collapsed": true
   },
   "outputs": [],
   "source": [
    "# GET MASK DATA\n",
    "v1_id = ontology.df[ontology.df.acronym=='VISp'].id.values[0]\n",
    "v1_mask, _ = mcc.get_structure_mask(v1_id)\n",
    "SCsg_id = ontology.df[ontology.df.acronym=='SCsg'].id.values[0]\n",
    "SCsg_mask, _ = mcc.get_structure_mask(SCsg_id)\n",
    "\n",
    "# PLOT A STRUCTURE MASK\n",
    "view = vc.vis3D_structureMask(view,v1_mask,maskCol=[1,0.5,1],ds_factor=1)\n",
    "view = vc.vis3D_structureMask(view,SCsg_mask,maskCol=[0.5,1,0.5],ds_factor=1)"
   ]
  },
  {
   "cell_type": "code",
   "execution_count": 105,
   "metadata": {
    "collapsed": false
   },
   "outputs": [],
   "source": [
    "# PLOT THE PATHS\n",
    "view = vis3D_showPaths(view,xyz)"
   ]
  },
  {
   "cell_type": "code",
   "execution_count": null,
   "metadata": {
    "collapsed": false
   },
   "outputs": [],
   "source": []
  },
  {
   "cell_type": "code",
   "execution_count": 62,
   "metadata": {
    "collapsed": false
   },
   "outputs": [],
   "source": [
    "\n",
    "\n"
   ]
  },
  {
   "cell_type": "code",
   "execution_count": 79,
   "metadata": {
    "collapsed": false
   },
   "outputs": [
    {
     "data": {
      "text/plain": [
       "array([[ 376.  ,   52.  ,  248.  ],\n",
       "       [ 375.52,   55.52,  248.  ],\n",
       "       [ 374.2 ,   58.64,  248.  ],\n",
       "       [ 371.52,   60.88,  248.44],\n",
       "       [ 368.  ,   62.64,  249.32],\n",
       "       [ 364.  ,   63.52,  250.64],\n",
       "       [ 360.44,   64.  ,  252.  ],\n",
       "       [ 357.32,   64.  ,  253.76],\n",
       "       [ 354.64,   64.44,  256.  ],\n",
       "       [ 352.  ,   65.76,  258.2 ],\n",
       "       [ 349.32,   68.44,  260.  ],\n",
       "       [ 347.08,   71.52,  261.32],\n",
       "       [ 344.88,   74.64,  262.64],\n",
       "       [ 342.64,   77.32,  263.52],\n",
       "       [ 340.  ,   80.44,  264.  ],\n",
       "       [ 337.76,   83.52,  264.  ],\n",
       "       [ 336.  ,   86.64,  264.44],\n",
       "       [ 334.64,   89.32,  265.32],\n",
       "       [ 332.88,   92.44,  266.64],\n",
       "       [ 331.08,   96.  ,  267.52],\n",
       "       [ 328.88,   99.52,  268.  ],\n",
       "       [ 326.64,  102.64,  268.44],\n",
       "       [ 324.  ,  104.88,  269.76],\n",
       "       [ 321.76,  107.08,  272.44],\n",
       "       [ 320.  ,  108.88,  275.52],\n",
       "       [ 318.2 ,  110.64,  278.64],\n",
       "       [ 316.  ,  111.52,  280.88],\n",
       "       [ 313.32,  112.44,  283.08],\n",
       "       [ 311.08,  113.76,  284.88],\n",
       "       [ 309.32,  116.  ,  287.08],\n",
       "       [ 308.  ,  118.2 ,  289.32],\n",
       "       [ 306.64,  119.52,  292.44],\n",
       "       [ 305.32,  120.44,  296.  ],\n",
       "       [ 304.  ,  121.76,  299.52],\n",
       "       [ 302.64,  124.  ,  302.64],\n",
       "       [ 300.88,  126.2 ,  305.32],\n",
       "       [ 298.64,  127.52,  308.  ],\n",
       "       [ 296.  ,  128.44,  310.2 ],\n",
       "       [ 293.32,  129.76,  311.52],\n",
       "       [ 290.64,  132.  ,  312.44],\n",
       "       [ 288.  ,  134.2 ,  313.76],\n",
       "       [ 285.32,  135.52,  316.  ],\n",
       "       [ 283.08,  136.44,  318.2 ],\n",
       "       [ 281.32,  137.76,  320.  ],\n",
       "       [ 280.44,  140.44,  321.32],\n",
       "       [ 280.  ,  143.52,  323.08],\n",
       "       [ 280.  ,  146.2 ,  325.32],\n",
       "       [ 280.  ,  147.52,  328.44],\n",
       "       [ 280.  ,  148.  ,  332.  ],\n",
       "       [ 280.  ,  147.52,  336.  ],\n",
       "       [ 280.  ,  146.2 ,  340.  ],\n",
       "       [ 280.  ,  144.  ,  343.52],\n",
       "       [ 280.44,  141.32,  346.2 ],\n",
       "       [ 281.32,  138.64,  348.  ],\n",
       "       [ 282.64,  135.52,  349.76],\n",
       "       [ 283.52,  132.44,  352.  ],\n",
       "       [ 284.  ,  129.32,  354.2 ],\n",
       "       [ 284.44,  126.64,  355.52],\n",
       "       [ 285.32,  123.52,  356.  ],\n",
       "       [ 286.64,  120.  ,  356.  ],\n",
       "       [ 287.52,  116.  ,  356.  ],\n",
       "       [ 288.44,  112.44,  356.  ],\n",
       "       [ 289.76,  109.32,  356.  ],\n",
       "       [ 292.  ,  106.64,  356.  ],\n",
       "       [ 294.2 ,  103.52,  356.  ],\n",
       "       [ 296.  ,  100.44,  356.  ],\n",
       "       [ 297.32,   97.32,  356.  ],\n",
       "       [ 299.08,   94.64,  356.  ],\n",
       "       [ 300.88,   91.52,  356.  ],\n",
       "       [ 303.08,   88.44,  356.  ],\n",
       "       [ 304.88,   85.32,  356.  ],\n",
       "       [ 307.08,   83.08,  356.  ],\n",
       "       [ 308.88,   81.32,  356.  ],\n",
       "       [ 311.08,   80.44,  356.  ],\n",
       "       [ 313.32,   79.52,  356.  ],\n",
       "       [ 316.44,   78.2 ,  356.  ],\n",
       "       [ 319.52,   75.52,  355.52],\n",
       "       [ 322.64,   72.44,  354.64],\n",
       "       [ 324.88,   69.32,  352.88],\n",
       "       [ 327.08,   66.64,  351.08],\n",
       "       [ 330.64,   63.52,  348.  ],\n",
       "       [ 336.  ,   60.  ,  344.  ],\n",
       "       [ 347.6 ,   51.6 ,  311.2 ]])"
      ]
     },
     "execution_count": 79,
     "metadata": {},
     "output_type": "execute_result"
    }
   ],
   "source": [
    "xyz"
   ]
  },
  {
   "cell_type": "code",
   "execution_count": null,
   "metadata": {
    "collapsed": true
   },
   "outputs": [],
   "source": []
  },
  {
   "cell_type": "code",
   "execution_count": null,
   "metadata": {
    "collapsed": true
   },
   "outputs": [],
   "source": [
    "# import sys\n",
    "# print sys.path\n",
    "# sys.path.append('somepath')\n",
    "\n",
    "\n",
    "# list of tuples\n",
    "# lt = [('r',np.ones((5,5))),('g',np.ones((8,2)))]\n",
    "# print(lt[0][1])\n",
    "\n",
    "\n",
    "# render volume\n",
    "#vol = np.empty(img.shape + (4,), dtype='ubyte')\n",
    "#vol[:] = img[..., None]\n",
    "#vol = np.ascontiguousarray(vol.transpose(1, 2, 0, 3))\n",
    "#vi = pgl.GLVolumeItem(vol)\n",
    "#self.glView.addItem(vi)\n",
    "#vi.translate(-vol.shape[0]/2., -vol.shape[1]/2., -vol.shape[2]/2.)\n",
    "\n",
    "\n",
    "# remove item\n",
    "# view.removeItem(mesh)\n",
    "\n",
    "\n",
    "# g = pgl.GLGridItem()\n",
    "# g.scale(10, 10, 1)\n",
    "# view.addItem(g)\n",
    "\n",
    "\n",
    "# # render volume\n",
    "# vol = np.zeros(pdensity.shape + (4,), dtype='ubyte')\n",
    "# vol[...,3] = pdensity*255\n",
    "# vol[...,1] = 255\n",
    "# #vol = np.ascontiguousarray(vol.transpose(1, 2, 0, 3))\n",
    "# vi = pgl.GLVolumeItem(vol)\n",
    "# vi.translate(-vol.shape[0]/8., -vol.shape[1]/8., -vol.shape[2]/8.)\n",
    "# vi.scale(1./4,1./4,1./4)\n",
    "\n",
    "\n",
    "# verts_pd, faces_pd = pg.isosurface(ndi.gaussian_filter(pd.astype('float32'), (2, 2, 2)), .05)\n",
    "# md_d = pgl.MeshData(vertexes=verts_pd, faces=faces_pd)\n",
    "# mesh_d = pgl.GLMeshItem(meshdata=md_d, smooth=True, color=[1, 0.5, 1, 0.9], shader='balloon')\n",
    "# mesh_d.setGLOptions('additive')\n",
    "# mesh_d.translate(-pd.shape[0]/2., -pd.shape[1]/2., -pd.shape[2]/2.)\n",
    "# view.addItem(mesh_d)"
   ]
  },
  {
   "cell_type": "code",
   "execution_count": null,
   "metadata": {
    "collapsed": true
   },
   "outputs": [],
   "source": []
  },
  {
   "cell_type": "markdown",
   "metadata": {
    "collapsed": true
   },
   "source": [
    "# Define the visualization functions"
   ]
  },
  {
   "cell_type": "code",
   "execution_count": 3,
   "metadata": {
    "collapsed": false
   },
   "outputs": [],
   "source": [
    "# def vis3D(brain_array,inj_array,pad = 30,ds_factor=6):\n",
    "    \n",
    "#     # set up time variables\n",
    "#     now = time.time()\n",
    "#     now_start = now\n",
    "    \n",
    "#     view = vis3D_glassBrain(template,pad,ds_factor)\n",
    "#     print \"build brain isosurface %0.2f\" % (time.time() - now); now = time.time() \n",
    "    \n",
    "#     view = vis3D_projections(view,inj_array,ds_factor)\n",
    "#     print \"build injection volume %0.2f\" % (time.time() - now); now = time.time() \n",
    "    \n",
    "#     view.show()\n",
    "    \n",
    "#     print \"rendering %0.2f\" % (time.time() - now); now = time.time() \n",
    "#     print \"total run time: %0.2f\" % (time.time() - now_start)\n",
    "    \n",
    "#     return view"
   ]
  },
  {
   "cell_type": "code",
   "execution_count": 4,
   "metadata": {
    "collapsed": true
   },
   "outputs": [],
   "source": [
    "# def vis3D_glassBrain(brain_array,pad,ds_factor):\n",
    "    \n",
    "#     # initialize the window\n",
    "#     view = pgl.GLViewWidget()   \n",
    "    \n",
    "#     # downsample the brain image using the ds_factor\n",
    "#     img = brain_array[::ds_factor,::ds_factor,::ds_factor]\n",
    "    \n",
    "#     # do padding of the brain to avoid holes during rendering\n",
    "#     pad_img = np.zeros((img.shape[0]+pad, img.shape[1]+pad, img.shape[2]+pad), dtype=img.dtype)\n",
    "#     pad_img[pad/2:pad/2+img.shape[0], pad/2:pad/2+img.shape[1], pad/2:pad/2+img.shape[2]] = img\n",
    "    \n",
    "#     # build the brain isosurface\n",
    "#     verts, faces = pg.isosurface(ndi.gaussian_filter(pad_img.astype('float32'), (1, 1, 1)), 5.0)\n",
    "#     md = pgl.MeshData(vertexes=verts, faces=faces)\n",
    "#     mesh = pgl.GLMeshItem(meshdata=md, smooth=True, color=[0.5, 0.5, 0.5, 0.1], shader='balloon')\n",
    "#     mesh.setGLOptions('additive')\n",
    "#     mesh.translate(-pad_img.shape[0]/2., -pad_img.shape[1]/2., -pad_img.shape[2]/2.)\n",
    "#     mesh.rotate(-90, 1, 0, 0)\n",
    "#     view.addItem(mesh)\n",
    "#     view.setCameraPosition(distance=200, elevation=20, azimuth=90)\n",
    "#     view.show()\n",
    "\n",
    "#     return view"
   ]
  },
  {
   "cell_type": "code",
   "execution_count": 5,
   "metadata": {
    "collapsed": true
   },
   "outputs": [],
   "source": [
    "# def vis3D_projections(view,inj_array,ds_factor):\n",
    "    \n",
    "#     # render the injection(s) as a volume\n",
    "#     # inj_array should be a list of tuples, with the first element in the tuple\n",
    "#     # being the plotting color (a RGB value), and the second element being the \n",
    "#     # ND-array of the volumetric data for a given injection\n",
    "#     vols = np.zeros(inj_array[0][1].shape + (4,), dtype='float32')\n",
    "#     for inj in range(len(inj_array)):\n",
    "#         col = inj_array[inj][0]\n",
    "#         vols[...,0] += col[0] * inj_array[inj][1] # red channel\n",
    "#         vols[...,1] += col[1] * inj_array[inj][1] # green channel\n",
    "#         vols[...,2] += col[2] * inj_array[inj][1] # blue channel\n",
    "#         vols[...,3] += inj_array[inj][1] * 255    # alpha channel\n",
    "\n",
    "#     # Set alpha and make sure the maximum alpha is 255\n",
    "#     vols[...,3] *= 5\n",
    "#     vols[...,3] = np.clip(vols[...,3],0,255)\n",
    "\n",
    "#     # now add the volume to the view window\n",
    "#     vi = pgl.GLVolumeItem(vols)\n",
    "#     vi.translate(-vols.shape[0]/(2.*ds_factor), -vols.shape[1]/(2.*ds_factor), -vols.shape[2]/(2.*ds_factor))\n",
    "#     vi.scale(1./ds_factor,1./ds_factor,1./ds_factor)\n",
    "#     vi.setGLOptions('additive')\n",
    "#     vi.rotate(-90, 1, 0, 0)\n",
    "#     view.setCameraPosition(distance=200, elevation=20, azimuth=90)\n",
    "#     view.addItem(vi)\n",
    "    \n",
    "#     return view"
   ]
  },
  {
   "cell_type": "code",
   "execution_count": 6,
   "metadata": {
    "collapsed": true
   },
   "outputs": [],
   "source": [
    "# def vis3D_structureMask(view,mask,maskCol,ds_factor):\n",
    "\n",
    "#     # downsample the brain image using the ds_factor\n",
    "#     img = mask[::ds_factor,::ds_factor,::ds_factor]\n",
    "\n",
    "#     # build the brain isosurface\n",
    "#     verts, faces = pg.isosurface(ndi.gaussian_filter(img.astype('float32'), (0.5, 0.5, 0.5)), .5)\n",
    "#     md = pgl.MeshData(vertexes=verts, faces=faces)\n",
    "#     meshMask = pgl.GLMeshItem(meshdata=md, smooth=True, color=[maskCol[0], maskCol[1], maskCol[2], 0.2], shader='balloon')\n",
    "#     meshMask.setGLOptions('additive')\n",
    "#     meshMask.translate(-img.shape[0]/2., -img.shape[1]/2., -img.shape[2]/2.)\n",
    "#     meshMask.rotate(-90, 1, 0, 0)\n",
    "#     view.addItem(meshMask)\n",
    "#     view.setCameraPosition(distance=200, elevation=20, azimuth=90)\n",
    "#     view.show()\n",
    "\n",
    "#     return view"
   ]
  }
 ],
 "metadata": {
  "anaconda-cloud": {},
  "kernelspec": {
   "display_name": "Python [Root]",
   "language": "python",
   "name": "Python [Root]"
  },
  "language_info": {
   "codemirror_mode": {
    "name": "ipython",
    "version": 2
   },
   "file_extension": ".py",
   "mimetype": "text/x-python",
   "name": "python",
   "nbconvert_exporter": "python",
   "pygments_lexer": "ipython2",
   "version": "2.7.12"
  }
 },
 "nbformat": 4,
 "nbformat_minor": 0
}
