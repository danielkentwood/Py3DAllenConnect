{
 "cells": [
  {
   "cell_type": "code",
   "execution_count": 1,
   "metadata": {
    "collapsed": false
   },
   "outputs": [
    {
     "data": {
      "text/plain": [
       "<PyQt4.QtGui.QApplication at 0x1162483e0>"
      ]
     },
     "execution_count": 1,
     "metadata": {},
     "output_type": "execute_result"
    }
   ],
   "source": [
    "drive_path = '/Volumes/Brain2016 1'\n",
    "\n",
    "%gui qt\n",
    "\n",
    "import os\n",
    "from allensdk.core.mouse_connectivity_cache import MouseConnectivityCache\n",
    "import pandas as pd\n",
    "import scipy.ndimage as ndi\n",
    "import numpy as np\n",
    "import time\n",
    "import get_connectivity as gc\n",
    "import vis3DConnect as vc\n",
    "\n",
    "import pyqtgraph as pg\n",
    "import pyqtgraph.metaarray as metaarray\n",
    "from pyqtgraph.Qt import QtGui, QtCore\n",
    "import pyqtgraph.opengl as pgl\n",
    "pg.mkQApp()\n"
   ]
  },
  {
   "cell_type": "code",
   "execution_count": 2,
   "metadata": {
    "collapsed": false
   },
   "outputs": [],
   "source": [
    "# When downloading 3D connectivity data volumes, what resolution do you want (in microns)?  \n",
    "# Options are: 10, 25, 50, 100\n",
    "resolution_um=25\n",
    "\n",
    "# The manifest file is a simple JSON file that keeps track of all of\n",
    "# the data that has already been downloaded onto the hard drives.\n",
    "# If you supply a relative path, it is assumed to be relative to your\n",
    "# current working directory.\n",
    "manifest_file = os.path.join(drive_path, \"MouseConnectivity\",\"manifest.json\")\n",
    "\n",
    "mcc = MouseConnectivityCache(manifest_file=manifest_file, resolution=resolution_um)\n",
    "\n",
    "template, template_info = mcc.get_template_volume()\n",
    "\n",
    "ontology = mcc.get_ontology()"
   ]
  },
  {
   "cell_type": "code",
   "execution_count": null,
   "metadata": {
    "collapsed": true
   },
   "outputs": [],
   "source": []
  },
  {
   "cell_type": "markdown",
   "metadata": {},
   "source": [
    "# Set up your variables for the density plots"
   ]
  },
  {
   "cell_type": "code",
   "execution_count": 7,
   "metadata": {
    "collapsed": true
   },
   "outputs": [],
   "source": [
    "# FIND CONNECTIONS\n",
    "fid_PRNc_III, fpd_PRNc_III=gc.get_connectivity('PRNc','III',ontology,mcc)\n",
    "piIDs = list(fpd_PRNc_III.experiment_id)"
   ]
  },
  {
   "cell_type": "code",
   "execution_count": 8,
   "metadata": {
    "collapsed": false
   },
   "outputs": [],
   "source": [
    "# FIND CONNECTIONS\n",
    "fid_SCm_PRNc, fpd_SCm_PRNc=gc.get_connectivity('SCm','PRNc',ontology,mcc)\n",
    "spIDs = list(fpd_SCm_PRNc.experiment_id)"
   ]
  },
  {
   "cell_type": "code",
   "execution_count": 3,
   "metadata": {
    "collapsed": false
   },
   "outputs": [],
   "source": [
    "# GET PROJECTION DENSITIES\n",
    "pdens1,_ = mcc.get_projection_density(158838128)\n",
    "pdens2,_= mcc.get_projection_density(146078721)"
   ]
  },
  {
   "cell_type": "code",
   "execution_count": 3,
   "metadata": {
    "collapsed": false
   },
   "outputs": [],
   "source": [
    "# GET MASK DATA\n",
    "PRNc_id = ontology.df[ontology.df.acronym=='PRNc'].id.values[0]\n",
    "PRNc_mask, _ = mcc.get_structure_mask(PRNc_id)\n",
    "\n",
    "SCm_id = ontology.df[ontology.df.acronym=='SCm'].id.values[0]\n",
    "SCm_mask, _ = mcc.get_structure_mask(SCm_id)"
   ]
  },
  {
   "cell_type": "code",
   "execution_count": 4,
   "metadata": {
    "collapsed": true
   },
   "outputs": [],
   "source": [
    "# DEFINE THE INJECTION INPUT(S)\n",
    "lt = [([240,15,0],pdens1),([0,15,240],pdens2)]\n",
    "# lt = [([240,15,0],pdens1)]\n",
    "\n",
    "# Note that the dominant RGB color should be 255, and the added color you want at the peak intensity\n",
    "# (i.e., where the injection occurred) should be set to about 10 or 15."
   ]
  },
  {
   "cell_type": "markdown",
   "metadata": {
    "collapsed": true
   },
   "source": [
    "# RUNNING THE VISUALIZATION"
   ]
  },
  {
   "cell_type": "code",
   "execution_count": 5,
   "metadata": {
    "collapsed": false
   },
   "outputs": [
    {
     "name": "stderr",
     "output_type": "stream",
     "text": [
      "pyqtgraph/functions.py:2067: VisibleDeprecationWarning: converting an array with ndim > 0 to an index will result in an error in the future\n",
      "  faceTableI[faceTableInds[:,0]] = np.array([triTable[j] for j in faceTableInds])\n"
     ]
    },
    {
     "name": "stdout",
     "output_type": "stream",
     "text": [
      "build brain isosurface 2.02\n",
      "build injection volume 39.73\n",
      "rendering 0.00\n",
      "total run time: 41.79\n"
     ]
    }
   ],
   "source": [
    "# RUN THE ENTIRE VISUALIZATION\n",
    "view = vc.vis3D(template,lt)"
   ]
  },
  {
   "cell_type": "code",
   "execution_count": 7,
   "metadata": {
    "collapsed": true
   },
   "outputs": [],
   "source": [
    "# ROTATE AROUND THE IMAGE \n",
    "for i in range(360): # determine the number of steps\n",
    "    view.orbit(-2,0)  # determine the step size in horizontal and vertical dimensions\n",
    "    time.sleep(0.1) # determine the time between steps\n",
    "    pg.QtGui.QApplication.processEvents()"
   ]
  },
  {
   "cell_type": "code",
   "execution_count": 4,
   "metadata": {
    "collapsed": false
   },
   "outputs": [
    {
     "name": "stderr",
     "output_type": "stream",
     "text": [
      "pyqtgraph/functions.py:2067: VisibleDeprecationWarning: converting an array with ndim > 0 to an index will result in an error in the future\n",
      "  faceTableI[faceTableInds[:,0]] = np.array([triTable[j] for j in faceTableInds])\n"
     ]
    }
   ],
   "source": [
    "# JUST PLOT THE GLASS BRAIN\n",
    "view = vc.glass_brain(template, pad=30, ds_factor=6)"
   ]
  },
  {
   "cell_type": "code",
   "execution_count": 45,
   "metadata": {
    "collapsed": false
   },
   "outputs": [],
   "source": [
    "# PLOT SOME PROJECTIONS (ASSUMING AN EXISTING GLASS BRAIN)\n",
    "view = vc.projections(view, lt)"
   ]
  },
  {
   "cell_type": "code",
   "execution_count": 16,
   "metadata": {
    "collapsed": false
   },
   "outputs": [],
   "source": [
    "# PLOT A STRUCTURE MASK\n",
    "view = vc.structure_mask(view, PRNc_mask, maskCol=[0.5,1,0.5], ds_factor=1)\n",
    "view = vc.structure_mask(view, SCm_mask, maskCol=[1,0.5,1], ds_factor=1)"
   ]
  },
  {
   "cell_type": "markdown",
   "metadata": {},
   "source": [
    "# MODIFYING THE VISUALIZATION"
   ]
  },
  {
   "cell_type": "code",
   "execution_count": 46,
   "metadata": {
    "collapsed": false
   },
   "outputs": [],
   "source": [
    "# REMOVE ALL ITEMS FROM VIEW\n",
    "for i in range(len(view.items)):\n",
    "    view.removeItem(view.items[0])  \n",
    "# view.items"
   ]
  },
  {
   "cell_type": "code",
   "execution_count": 15,
   "metadata": {
    "collapsed": false
   },
   "outputs": [],
   "source": [
    "# REMOVE NON-GLASS-BRAIN ITEMS FROM VIEW\n",
    "for i in range(len(view.items)-1):\n",
    "    view.removeItem(view.items[1])  "
   ]
  },
  {
   "cell_type": "code",
   "execution_count": 34,
   "metadata": {
    "collapsed": false
   },
   "outputs": [],
   "source": [
    "# REMOVE MOST RECENT FROM VIEW\n",
    "view.removeItem(view.items[len(view.items)-1])  "
   ]
  },
  {
   "cell_type": "markdown",
   "metadata": {
    "collapsed": false
   },
   "source": [
    "# Plotting pathways"
   ]
  },
  {
   "cell_type": "code",
   "execution_count": 5,
   "metadata": {
    "collapsed": true
   },
   "outputs": [],
   "source": [
    "import urllib\n",
    "import json"
   ]
  },
  {
   "cell_type": "code",
   "execution_count": 7,
   "metadata": {
    "collapsed": true
   },
   "outputs": [],
   "source": [
    "# V1 to SCs\n",
    "target_voxel = [9400,1250,6200]\n",
    "experiment_id = 309113907\n",
    "data = get_path( target_voxel, experiment_id )"
   ]
  },
  {
   "cell_type": "code",
   "execution_count": 37,
   "metadata": {
    "collapsed": true
   },
   "outputs": [],
   "source": [
    "# PRNc to III\n",
    "PNRc_III_voxel = [9200,3800,5800]\n",
    "PRNc_III_id = 158838128\n",
    "data = get_path( PNRc_III_voxel, PRNc_III_id )"
   ]
  },
  {
   "cell_type": "code",
   "execution_count": 28,
   "metadata": {
    "collapsed": true
   },
   "outputs": [],
   "source": [
    "# SCm to PRNc\n",
    "SCm_PNRc_voxel = [10600,5450,6250]\n",
    "SCm_PRNc_id = 292533477\n",
    "data = get_path( SCm_PNRc_voxel, SCm_PRNc_id )"
   ]
  },
  {
   "cell_type": "code",
   "execution_count": 38,
   "metadata": {
    "collapsed": true
   },
   "outputs": [],
   "source": [
    "# unpack it for plotting\n",
    "x, y, z = zip(*data)\n",
    "\n",
    "# divide by 25 \n",
    "nx = np.array(x).astype(float)/25\n",
    "ny = np.array(y).astype(float)/25\n",
    "nz = np.array(z).astype(float)/25\n",
    "\n",
    "xyz = np.vstack([nx,ny,nz]).transpose()"
   ]
  },
  {
   "cell_type": "code",
   "execution_count": 10,
   "metadata": {
    "collapsed": true
   },
   "outputs": [],
   "source": [
    "# JUST PLOT THE GLASS BRAIN\n",
    "view = vc.glass_brain(template,pad=30,ds_factor=6)"
   ]
  },
  {
   "cell_type": "code",
   "execution_count": null,
   "metadata": {
    "collapsed": true
   },
   "outputs": [],
   "source": [
    "# GET MASK DATA\n",
    "# v1_id = ontology.df[ontology.df.acronym=='VISp'].id.values[0]\n",
    "# v1_mask, _ = mcc.get_structure_mask(v1_id)\n",
    "# SCsg_id = ontology.df[ontology.df.acronym=='SCsg'].id.values[0]\n",
    "# SCsg_mask, _ = mcc.get_structure_mask(SCsg_id)\n",
    "\n",
    "SCm_id = ontology.df[ontology.df.acronym=='SCm'].id.values[0]\n",
    "SCm_mask, _ = mcc.get_structure_mask(SCm_id)\n",
    "PRNc_id = ontology.df[ontology.df.acronym=='PRNc'].id.values[0]\n",
    "PRNc_mask, _ = mcc.get_structure_mask(PRNc_id)\n",
    "III_id = ontology.df[ontology.df.acronym=='III'].id.values[0]\n",
    "III_mask, _ = mcc.get_structure_mask(III_id)"
   ]
  },
  {
   "cell_type": "code",
   "execution_count": 16,
   "metadata": {
    "collapsed": true
   },
   "outputs": [],
   "source": [
    "# PLOT A STRUCTURE MASK\n",
    "view = vc.structure_mask(view,SCm_mask,maskCol=[1,0,0],ds_factor=1)\n",
    "view = vc.structure_mask(view,PRNc_mask,maskCol=[0.5,1,0.5],ds_factor=1)\n",
    "view = vc.structure_mask(view,III_mask,maskCol=[0.2,0.5,1],ds_factor=1)"
   ]
  },
  {
   "cell_type": "code",
   "execution_count": 39,
   "metadata": {
    "collapsed": false
   },
   "outputs": [],
   "source": [
    "# PLOT THE PATHS\n",
    "view = vc.show_paths(view,xyz,lineColor=[0,0,255,255])"
   ]
  },
  {
   "source": [
    "## Old code"
   ],
   "cell_type": "markdown",
   "metadata": {
    "collapsed": false
   }
  },
  {
   "cell_type": "code",
   "execution_count": null,
   "metadata": {
    "collapsed": true
   },
   "outputs": [],
   "source": [
    "# import sys\n",
    "# print sys.path\n",
    "# sys.path.append('somepath')\n",
    "\n",
    "\n",
    "# list of tuples\n",
    "# lt = [('r',np.ones((5,5))),('g',np.ones((8,2)))]\n",
    "# print(lt[0][1])\n",
    "\n",
    "\n",
    "# render volume\n",
    "#vol = np.empty(img.shape + (4,), dtype='ubyte')\n",
    "#vol[:] = img[..., None]\n",
    "#vol = np.ascontiguousarray(vol.transpose(1, 2, 0, 3))\n",
    "#vi = pgl.GLVolumeItem(vol)\n",
    "#self.glView.addItem(vi)\n",
    "#vi.translate(-vol.shape[0]/2., -vol.shape[1]/2., -vol.shape[2]/2.)\n",
    "\n",
    "\n",
    "# remove item\n",
    "# view.removeItem(mesh)\n",
    "\n",
    "\n",
    "# g = pgl.GLGridItem()\n",
    "# g.scale(10, 10, 1)\n",
    "# view.addItem(g)\n",
    "\n",
    "\n",
    "# # render volume\n",
    "# vol = np.zeros(pdensity.shape + (4,), dtype='ubyte')\n",
    "# vol[...,3] = pdensity*255\n",
    "# vol[...,1] = 255\n",
    "# #vol = np.ascontiguousarray(vol.transpose(1, 2, 0, 3))\n",
    "# vi = pgl.GLVolumeItem(vol)\n",
    "# vi.translate(-vol.shape[0]/8., -vol.shape[1]/8., -vol.shape[2]/8.)\n",
    "# vi.scale(1./4,1./4,1./4)\n",
    "\n",
    "\n",
    "# verts_pd, faces_pd = pg.isosurface(ndi.gaussian_filter(pd.astype('float32'), (2, 2, 2)), .05)\n",
    "# md_d = pgl.MeshData(vertexes=verts_pd, faces=faces_pd)\n",
    "# mesh_d = pgl.GLMeshItem(meshdata=md_d, smooth=True, color=[1, 0.5, 1, 0.9], shader='balloon')\n",
    "# mesh_d.setGLOptions('additive')\n",
    "# mesh_d.translate(-pd.shape[0]/2., -pd.shape[1]/2., -pd.shape[2]/2.)\n",
    "# view.addItem(mesh_d)"
   ]
  },
  {
   "cell_type": "markdown",
   "metadata": {
    "collapsed": true
   },
   "source": [
    "# Define the visualization functions"
   ]
  },
  {
   "cell_type": "code",
   "execution_count": 35,
   "metadata": {
    "collapsed": false
   },
   "outputs": [],
   "source": [
    "# def get_path(target_voxel, experiment_id):\n",
    "#     url = \"http://api.brain-map.org/api/v2/data/query.json?criteria=service::mouse_connectivity_target_spatial\"\n",
    "#     url = url + \"[seed_point$eq%s]\" % ','.join([str(s) for s in target_voxel])\n",
    "#     url = url + \"[section_data_set$eq%d]\" % experiment_id\n",
    "    \n",
    "#     response = urllib.urlopen(url)\n",
    "#     data = json.loads(response.read())\n",
    "#     data = [s['coord'] for s in data['msg'][0]['path']]\n",
    "#     return data\n",
    "\n",
    "# def show_paths(view,paths,ds_factor=1, lineColor=[255,0,0,255]):\n",
    "#     pts = paths[::ds_factor]\n",
    "#     plt = pgl.GLLinePlotItem(pos=pts, color=pg.glColor(lineColor), width=2, antialias=True)\n",
    "#     plt.translate(-528./2,-320./2,-456./2) # currently hard-coded. Need to find a cheap way to pass this info\n",
    "#     plt.rotate(-90, 1, 0, 0)\n",
    "#     view.addItem(plt)\n",
    "    \n",
    "#     pos = np.empty((2, 3))\n",
    "#     color = np.empty((2, 4))\n",
    "#     size = np.empty((2))\n",
    "#     pos[0]=paths[0,::]\n",
    "#     pos[1]=paths[len(paths)-1::]\n",
    "#     color[0]=lineColor\n",
    "#     color[1]=lineColor\n",
    "#     size[0]=10\n",
    "#     size[1]=10\n",
    "#     sp1 = pgl.GLScatterPlotItem(pos=pos, size=size, color=color, pxMode=True)\n",
    "#     sp1.translate(-528./2,-320./2,-456./2) # currently hard-coded. Need to find a cheap way to pass this info\n",
    "#     sp1.rotate(-90, 1, 0, 0)\n",
    "#     view.addItem(sp1)\n",
    "    \n",
    "#     view.show()\n",
    "\n",
    "#     return view"
   ]
  },
  {
   "cell_type": "code",
   "execution_count": 3,
   "metadata": {
    "collapsed": false
   },
   "outputs": [],
   "source": [
    "# def vis3D(brain_array,inj_array,pad = 30,ds_factor=6):\n",
    "    \n",
    "#     # set up time variables\n",
    "#     now = time.time()\n",
    "#     now_start = now\n",
    "    \n",
    "#     view = glass_brain(template,pad,ds_factor)\n",
    "#     print \"build brain isosurface %0.2f\" % (time.time() - now); now = time.time() \n",
    "    \n",
    "#     view = projections(view,inj_array,ds_factor)\n",
    "#     print \"build injection volume %0.2f\" % (time.time() - now); now = time.time() \n",
    "    \n",
    "#     view.show()\n",
    "    \n",
    "#     print \"rendering %0.2f\" % (time.time() - now); now = time.time() \n",
    "#     print \"total run time: %0.2f\" % (time.time() - now_start)\n",
    "    \n",
    "#     return view"
   ]
  },
  {
   "cell_type": "code",
   "execution_count": 4,
   "metadata": {
    "collapsed": true
   },
   "outputs": [],
   "source": [
    "# def glass_brain(brain_array,pad,ds_factor):\n",
    "    \n",
    "#     # initialize the window\n",
    "#     view = pgl.GLViewWidget()   \n",
    "    \n",
    "#     # downsample the brain image using the ds_factor\n",
    "#     img = brain_array[::ds_factor,::ds_factor,::ds_factor]\n",
    "    \n",
    "#     # do padding of the brain to avoid holes during rendering\n",
    "#     pad_img = np.zeros((img.shape[0]+pad, img.shape[1]+pad, img.shape[2]+pad), dtype=img.dtype)\n",
    "#     pad_img[pad/2:pad/2+img.shape[0], pad/2:pad/2+img.shape[1], pad/2:pad/2+img.shape[2]] = img\n",
    "    \n",
    "#     # build the brain isosurface\n",
    "#     verts, faces = pg.isosurface(ndi.gaussian_filter(pad_img.astype('float32'), (1, 1, 1)), 5.0)\n",
    "#     md = pgl.MeshData(vertexes=verts, faces=faces)\n",
    "#     mesh = pgl.GLMeshItem(meshdata=md, smooth=True, color=[0.5, 0.5, 0.5, 0.1], shader='balloon')\n",
    "#     mesh.setGLOptions('additive')\n",
    "#     mesh.translate(-pad_img.shape[0]/2., -pad_img.shape[1]/2., -pad_img.shape[2]/2.)\n",
    "#     mesh.rotate(-90, 1, 0, 0)\n",
    "#     view.addItem(mesh)\n",
    "#     view.setCameraPosition(distance=200, elevation=20, azimuth=90)\n",
    "#     view.show()\n",
    "\n",
    "#     return view"
   ]
  },
  {
   "cell_type": "code",
   "execution_count": 5,
   "metadata": {
    "collapsed": true
   },
   "outputs": [],
   "source": [
    "# def projections(view,inj_array,ds_factor):\n",
    "    \n",
    "#     # render the injection(s) as a volume\n",
    "#     # inj_array should be a list of tuples, with the first element in the tuple\n",
    "#     # being the plotting color (a RGB value), and the second element being the \n",
    "#     # ND-array of the volumetric data for a given injection\n",
    "#     vols = np.zeros(inj_array[0][1].shape + (4,), dtype='float32')\n",
    "#     for inj in range(len(inj_array)):\n",
    "#         col = inj_array[inj][0]\n",
    "#         vols[...,0] += col[0] * inj_array[inj][1] # red channel\n",
    "#         vols[...,1] += col[1] * inj_array[inj][1] # green channel\n",
    "#         vols[...,2] += col[2] * inj_array[inj][1] # blue channel\n",
    "#         vols[...,3] += inj_array[inj][1] * 255    # alpha channel\n",
    "\n",
    "#     # Set alpha and make sure the maximum alpha is 255\n",
    "#     vols[...,3] *= 5\n",
    "#     vols[...,3] = np.clip(vols[...,3],0,255)\n",
    "\n",
    "#     # now add the volume to the view window\n",
    "#     vi = pgl.GLVolumeItem(vols)\n",
    "#     vi.translate(-vols.shape[0]/(2.*ds_factor), -vols.shape[1]/(2.*ds_factor), -vols.shape[2]/(2.*ds_factor))\n",
    "#     vi.scale(1./ds_factor,1./ds_factor,1./ds_factor)\n",
    "#     vi.setGLOptions('additive')\n",
    "#     vi.rotate(-90, 1, 0, 0)\n",
    "#     view.setCameraPosition(distance=200, elevation=20, azimuth=90)\n",
    "#     view.addItem(vi)\n",
    "    \n",
    "#     return view"
   ]
  },
  {
   "cell_type": "code",
   "execution_count": 6,
   "metadata": {
    "collapsed": true
   },
   "outputs": [],
   "source": [
    "# def structure_mask(view,mask,maskCol,ds_factor):\n",
    "\n",
    "#     # downsample the brain image using the ds_factor\n",
    "#     img = mask[::ds_factor,::ds_factor,::ds_factor]\n",
    "\n",
    "#     # build the brain isosurface\n",
    "#     verts, faces = pg.isosurface(ndi.gaussian_filter(img.astype('float32'), (0.5, 0.5, 0.5)), .5)\n",
    "#     md = pgl.MeshData(vertexes=verts, faces=faces)\n",
    "#     meshMask = pgl.GLMeshItem(meshdata=md, smooth=True, color=[maskCol[0], maskCol[1], maskCol[2], 0.2], shader='balloon')\n",
    "#     meshMask.setGLOptions('additive')\n",
    "#     meshMask.translate(-img.shape[0]/2., -img.shape[1]/2., -img.shape[2]/2.)\n",
    "#     meshMask.rotate(-90, 1, 0, 0)\n",
    "#     view.addItem(meshMask)\n",
    "#     view.setCameraPosition(distance=200, elevation=20, azimuth=90)\n",
    "#     view.show()\n",
    "\n",
    "#     return view"
   ]
  }
 ],
 "metadata": {
  "anaconda-cloud": {},
  "kernelspec": {
   "display_name": "Python [Root]",
   "language": "python",
   "name": "Python [Root]"
  },
  "language_info": {
   "codemirror_mode": {
    "name": "ipython",
    "version": 2
   },
   "file_extension": ".py",
   "mimetype": "text/x-python",
   "name": "python",
   "nbconvert_exporter": "python",
   "pygments_lexer": "ipython2",
   "version": "2.7.12"
  }
 },
 "nbformat": 4,
 "nbformat_minor": 0
}